{
 "cells": [
  {
   "cell_type": "markdown",
   "metadata": {},
   "source": [
    "### Add an ID column to the products, accounts, and sales_teams CSV files"
   ]
  },
  {
   "cell_type": "code",
   "execution_count": 1,
   "metadata": {},
   "outputs": [
    {
     "name": "stdout",
     "output_type": "stream",
     "text": [
      "accounts.csv information: \n",
      "<class 'pandas.core.frame.DataFrame'>\n",
      "RangeIndex: 85 entries, 0 to 84\n",
      "Data columns (total 8 columns):\n",
      " #   Column            Non-Null Count  Dtype  \n",
      "---  ------            --------------  -----  \n",
      " 0   id                85 non-null     int32  \n",
      " 1   account           85 non-null     object \n",
      " 2   sector            85 non-null     object \n",
      " 3   year_established  85 non-null     int64  \n",
      " 4   revenue           85 non-null     float64\n",
      " 5   employees         85 non-null     int64  \n",
      " 6   office_location   85 non-null     object \n",
      " 7   subsidiary_of     15 non-null     object \n",
      "dtypes: float64(1), int32(1), int64(2), object(4)\n",
      "memory usage: 5.1+ KB\n",
      "products.csv information: \n",
      "<class 'pandas.core.frame.DataFrame'>\n",
      "RangeIndex: 7 entries, 0 to 6\n",
      "Data columns (total 4 columns):\n",
      " #   Column       Non-Null Count  Dtype \n",
      "---  ------       --------------  ----- \n",
      " 0   id           7 non-null      int32 \n",
      " 1   product      7 non-null      object\n",
      " 2   series       7 non-null      object\n",
      " 3   sales_price  7 non-null      int64 \n",
      "dtypes: int32(1), int64(1), object(2)\n",
      "memory usage: 328.0+ bytes\n",
      "sales_teams.csv information: \n",
      "<class 'pandas.core.frame.DataFrame'>\n",
      "RangeIndex: 35 entries, 0 to 34\n",
      "Data columns (total 4 columns):\n",
      " #   Column           Non-Null Count  Dtype \n",
      "---  ------           --------------  ----- \n",
      " 0   id               35 non-null     int32 \n",
      " 1   sales_agent      35 non-null     object\n",
      " 2   manager          35 non-null     object\n",
      " 3   regional_office  35 non-null     object\n",
      "dtypes: int32(1), object(3)\n",
      "memory usage: 1.1+ KB\n"
     ]
    }
   ],
   "source": [
    "import pandas as pd\n",
    "import numpy as np\n",
    "\n",
    "# folder paths\n",
    "original_files_folder_path = \"C:\\\\DataFiles\\\\CRM_sales\\\\CSV files\\\\original_files\\\\\"\n",
    "modified_files_folder_path = \"C:\\\\DataFiles\\\\CRM_sales\\\\CSV files\\\\modified_files\\\\\"\n",
    "\n",
    "# list of CSV file names\n",
    "csv_file_names = ['accounts.csv',\n",
    "                  'products.csv',\n",
    "                  'sales_teams.csv']\n",
    "\n",
    "for file in csv_file_names:\n",
    "    open_path = original_files_folder_path + file\n",
    "    df = pd.read_csv(open_path)\n",
    "    \n",
    "    # define values for the new \"id\" column\n",
    "    max_idx = df.index.max() + 1\n",
    "    id_values = np.arange(1, max_idx + 1, 1)\n",
    "\n",
    "    # add new \"id\" column to the dataframe\n",
    "    df.insert(loc=0, column='id', value=id_values)\n",
    "    print(f'{file} information: ')\n",
    "    df.info()\n",
    "\n",
    "    # save dataframe back to the CSV file\n",
    "    save_path = modified_files_folder_path + file\n",
    "    df.to_csv(save_path, index=False)"
   ]
  },
  {
   "cell_type": "markdown",
   "metadata": {},
   "source": [
    "### Create a dictionary with ID and full name for the products, accounts, and sales_teams CSV files\n",
    "Goal: Prepare the data to replace records in sales_pipeline.csv"
   ]
  },
  {
   "cell_type": "code",
   "execution_count": 2,
   "metadata": {},
   "outputs": [
    {
     "name": "stdout",
     "output_type": "stream",
     "text": [
      "Dictionary example: {'GTX Basic': '1', 'GTX Pro': '2', 'MG Special': '3', 'MG Advanced': '4', 'GTX Plus Pro': '5', 'GTX Plus Basic': '6', 'GTK 500': '7'}.\n"
     ]
    }
   ],
   "source": [
    "import csv\n",
    "\n",
    "# dictionary names for each CSV file\n",
    "dict_names = ['accounts_dict',\n",
    "              'products_dict',\n",
    "              'teams_dict']\n",
    "\n",
    "for i in range(len(csv_file_names)):\n",
    "    \n",
    "    file = csv_file_names[i]\n",
    "    dict_name = dict_names[i]\n",
    "    \n",
    "    #read modified csv files (with id's)\n",
    "    with open(modified_files_folder_path + file) as csvfile:\n",
    "        reader = csv.reader(csvfile)\n",
    "        \n",
    "        # skip header\n",
    "        next(reader, None)\n",
    "        \n",
    "        temporary_dict = {}\n",
    "\n",
    "        for row in reader:\n",
    "            # key: full name; value: assigned ID\n",
    "            temporary_dict[row[1]] = row[0]\n",
    "        \n",
    "        # save temporary dictionary data to the final dictionary\n",
    "        globals()[dict_name] = temporary_dict\n",
    "\n",
    "print(f'Dictionary example: {products_dict}.')"
   ]
  },
  {
   "cell_type": "markdown",
   "metadata": {},
   "source": [
    "### Check for values in the dictionary that do not match the full names in sales_pipeline.csv"
   ]
  },
  {
   "cell_type": "code",
   "execution_count": 3,
   "metadata": {},
   "outputs": [
    {
     "name": "stdout",
     "output_type": "stream",
     "text": [
      "Sales_pipeline column - product:\n",
      "Non matching values in sales_pipeline column: ['GTXPro'].\n",
      "Non matching values in the dictionary: GTX Pro.\n",
      "Sales_pipeline column - account:\n",
      "Non matching values in sales_pipeline column: [nan].\n",
      "Sales_pipeline column - sales_agent:\n",
      "No missing values in the dictionary.\n"
     ]
    }
   ],
   "source": [
    "sales_pipeline_path = f'{original_files_folder_path}sales_pipeline.csv'\n",
    "sales_df = pd.read_csv(sales_pipeline_path)\n",
    "\n",
    "# sales_pipeline column and corresponding dictionary\n",
    "data = {'product': products_dict,\n",
    "        'account': accounts_dict,\n",
    "        'sales_agent': teams_dict}\n",
    "\n",
    "for column, dict in data.items():\n",
    "    print(f'Sales_pipeline column - {column}:')\n",
    "\n",
    "    # check for non matching values in sales_pipeline column\n",
    "    x = sales_df[~sales_df[column].isin(dict.keys())][column].unique()\n",
    "    \n",
    "    if len(x) != 0:\n",
    "        print(f'Non matching values in sales_pipeline column: {x}.')        \n",
    "\n",
    "        #check for non matching values in the dictionary \n",
    "        for keys in dict.keys():\n",
    "            y = sales_df[column].unique()\n",
    "            if keys not in y:\n",
    "                print(f'Non matching values in the dictionary: {keys}.')\n",
    "    \n",
    "    else:\n",
    "        print(f'No missing values in the dictionary.')"
   ]
  },
  {
   "cell_type": "markdown",
   "metadata": {},
   "source": [
    "Conclusion: there's a misspelled product name 'GTX Pro' in the dictionary."
   ]
  },
  {
   "cell_type": "markdown",
   "metadata": {},
   "source": [
    "### Modify misspelled values in the products dictionary"
   ]
  },
  {
   "cell_type": "code",
   "execution_count": 4,
   "metadata": {},
   "outputs": [],
   "source": [
    "# replace 'GTX Pro' to 'GTXPro'\n",
    "products_dict['GTXPro'] = products_dict['GTX Pro']\n",
    "\n",
    "del products_dict['GTX Pro']"
   ]
  },
  {
   "cell_type": "markdown",
   "metadata": {},
   "source": [
    "### Replace full names in sales_pipeline.csv with IDs"
   ]
  },
  {
   "cell_type": "code",
   "execution_count": 5,
   "metadata": {},
   "outputs": [],
   "source": [
    "for column, dict in data.items():\n",
    "    sales_df[column] = sales_df[column].map(dict)"
   ]
  },
  {
   "cell_type": "code",
   "execution_count": 6,
   "metadata": {},
   "outputs": [
    {
     "data": {
      "text/html": [
       "<div>\n",
       "<style scoped>\n",
       "    .dataframe tbody tr th:only-of-type {\n",
       "        vertical-align: middle;\n",
       "    }\n",
       "\n",
       "    .dataframe tbody tr th {\n",
       "        vertical-align: top;\n",
       "    }\n",
       "\n",
       "    .dataframe thead th {\n",
       "        text-align: right;\n",
       "    }\n",
       "</style>\n",
       "<table border=\"1\" class=\"dataframe\">\n",
       "  <thead>\n",
       "    <tr style=\"text-align: right;\">\n",
       "      <th></th>\n",
       "      <th>opportunity_id</th>\n",
       "      <th>sales_agent</th>\n",
       "      <th>product</th>\n",
       "      <th>account</th>\n",
       "      <th>deal_stage</th>\n",
       "      <th>engage_date</th>\n",
       "      <th>close_date</th>\n",
       "      <th>close_value</th>\n",
       "    </tr>\n",
       "  </thead>\n",
       "  <tbody>\n",
       "    <tr>\n",
       "      <th>0</th>\n",
       "      <td>1C1I7A6R</td>\n",
       "      <td>5</td>\n",
       "      <td>6</td>\n",
       "      <td>9</td>\n",
       "      <td>Won</td>\n",
       "      <td>2016-10-20</td>\n",
       "      <td>2017-03-01</td>\n",
       "      <td>1054.0</td>\n",
       "    </tr>\n",
       "    <tr>\n",
       "      <th>1</th>\n",
       "      <td>Z063OYW0</td>\n",
       "      <td>10</td>\n",
       "      <td>2</td>\n",
       "      <td>39</td>\n",
       "      <td>Won</td>\n",
       "      <td>2016-10-25</td>\n",
       "      <td>2017-03-11</td>\n",
       "      <td>4514.0</td>\n",
       "    </tr>\n",
       "    <tr>\n",
       "      <th>2</th>\n",
       "      <td>EC4QE1BX</td>\n",
       "      <td>10</td>\n",
       "      <td>3</td>\n",
       "      <td>9</td>\n",
       "      <td>Won</td>\n",
       "      <td>2016-10-25</td>\n",
       "      <td>2017-03-07</td>\n",
       "      <td>50.0</td>\n",
       "    </tr>\n",
       "    <tr>\n",
       "      <th>3</th>\n",
       "      <td>MV1LWRNH</td>\n",
       "      <td>5</td>\n",
       "      <td>1</td>\n",
       "      <td>11</td>\n",
       "      <td>Won</td>\n",
       "      <td>2016-10-25</td>\n",
       "      <td>2017-03-09</td>\n",
       "      <td>588.0</td>\n",
       "    </tr>\n",
       "    <tr>\n",
       "      <th>4</th>\n",
       "      <td>PE84CX4O</td>\n",
       "      <td>33</td>\n",
       "      <td>1</td>\n",
       "      <td>35</td>\n",
       "      <td>Won</td>\n",
       "      <td>2016-10-25</td>\n",
       "      <td>2017-03-02</td>\n",
       "      <td>517.0</td>\n",
       "    </tr>\n",
       "    <tr>\n",
       "      <th>...</th>\n",
       "      <td>...</td>\n",
       "      <td>...</td>\n",
       "      <td>...</td>\n",
       "      <td>...</td>\n",
       "      <td>...</td>\n",
       "      <td>...</td>\n",
       "      <td>...</td>\n",
       "      <td>...</td>\n",
       "    </tr>\n",
       "    <tr>\n",
       "      <th>8795</th>\n",
       "      <td>9MIWFW5J</td>\n",
       "      <td>3</td>\n",
       "      <td>4</td>\n",
       "      <td>NaN</td>\n",
       "      <td>Prospecting</td>\n",
       "      <td>NaN</td>\n",
       "      <td>NaN</td>\n",
       "      <td>NaN</td>\n",
       "    </tr>\n",
       "    <tr>\n",
       "      <th>8796</th>\n",
       "      <td>6SLKZ8FI</td>\n",
       "      <td>3</td>\n",
       "      <td>4</td>\n",
       "      <td>NaN</td>\n",
       "      <td>Prospecting</td>\n",
       "      <td>NaN</td>\n",
       "      <td>NaN</td>\n",
       "      <td>NaN</td>\n",
       "    </tr>\n",
       "    <tr>\n",
       "      <th>8797</th>\n",
       "      <td>LIB4KUZJ</td>\n",
       "      <td>3</td>\n",
       "      <td>4</td>\n",
       "      <td>NaN</td>\n",
       "      <td>Prospecting</td>\n",
       "      <td>NaN</td>\n",
       "      <td>NaN</td>\n",
       "      <td>NaN</td>\n",
       "    </tr>\n",
       "    <tr>\n",
       "      <th>8798</th>\n",
       "      <td>18IUIUK0</td>\n",
       "      <td>3</td>\n",
       "      <td>4</td>\n",
       "      <td>NaN</td>\n",
       "      <td>Prospecting</td>\n",
       "      <td>NaN</td>\n",
       "      <td>NaN</td>\n",
       "      <td>NaN</td>\n",
       "    </tr>\n",
       "    <tr>\n",
       "      <th>8799</th>\n",
       "      <td>8I5ONXJX</td>\n",
       "      <td>3</td>\n",
       "      <td>4</td>\n",
       "      <td>NaN</td>\n",
       "      <td>Prospecting</td>\n",
       "      <td>NaN</td>\n",
       "      <td>NaN</td>\n",
       "      <td>NaN</td>\n",
       "    </tr>\n",
       "  </tbody>\n",
       "</table>\n",
       "<p>8800 rows × 8 columns</p>\n",
       "</div>"
      ],
      "text/plain": [
       "     opportunity_id sales_agent product account   deal_stage engage_date  \\\n",
       "0          1C1I7A6R           5       6       9          Won  2016-10-20   \n",
       "1          Z063OYW0          10       2      39          Won  2016-10-25   \n",
       "2          EC4QE1BX          10       3       9          Won  2016-10-25   \n",
       "3          MV1LWRNH           5       1      11          Won  2016-10-25   \n",
       "4          PE84CX4O          33       1      35          Won  2016-10-25   \n",
       "...             ...         ...     ...     ...          ...         ...   \n",
       "8795       9MIWFW5J           3       4     NaN  Prospecting         NaN   \n",
       "8796       6SLKZ8FI           3       4     NaN  Prospecting         NaN   \n",
       "8797       LIB4KUZJ           3       4     NaN  Prospecting         NaN   \n",
       "8798       18IUIUK0           3       4     NaN  Prospecting         NaN   \n",
       "8799       8I5ONXJX           3       4     NaN  Prospecting         NaN   \n",
       "\n",
       "      close_date  close_value  \n",
       "0     2017-03-01       1054.0  \n",
       "1     2017-03-11       4514.0  \n",
       "2     2017-03-07         50.0  \n",
       "3     2017-03-09        588.0  \n",
       "4     2017-03-02        517.0  \n",
       "...          ...          ...  \n",
       "8795         NaN          NaN  \n",
       "8796         NaN          NaN  \n",
       "8797         NaN          NaN  \n",
       "8798         NaN          NaN  \n",
       "8799         NaN          NaN  \n",
       "\n",
       "[8800 rows x 8 columns]"
      ]
     },
     "execution_count": 6,
     "metadata": {},
     "output_type": "execute_result"
    }
   ],
   "source": [
    "#preview of the modified sales_pipeline dataframe\n",
    "sales_df"
   ]
  },
  {
   "cell_type": "code",
   "execution_count": 7,
   "metadata": {},
   "outputs": [
    {
     "name": "stdout",
     "output_type": "stream",
     "text": [
      "<class 'pandas.core.frame.DataFrame'>\n",
      "RangeIndex: 8800 entries, 0 to 8799\n",
      "Data columns (total 8 columns):\n",
      " #   Column          Non-Null Count  Dtype  \n",
      "---  ------          --------------  -----  \n",
      " 0   opportunity_id  8800 non-null   object \n",
      " 1   sales_agent     8800 non-null   object \n",
      " 2   product         8800 non-null   object \n",
      " 3   account         7375 non-null   object \n",
      " 4   deal_stage      8800 non-null   object \n",
      " 5   engage_date     8300 non-null   object \n",
      " 6   close_date      6711 non-null   object \n",
      " 7   close_value     6711 non-null   float64\n",
      "dtypes: float64(1), object(7)\n",
      "memory usage: 550.1+ KB\n"
     ]
    }
   ],
   "source": [
    "sales_df.info()"
   ]
  },
  {
   "cell_type": "markdown",
   "metadata": {},
   "source": [
    "### Save changes to sales_pipeline.csv"
   ]
  },
  {
   "cell_type": "code",
   "execution_count": 8,
   "metadata": {},
   "outputs": [],
   "source": [
    "sales_df.to_csv(f\"{modified_files_folder_path}sales_pipeline.csv\", index=False)"
   ]
  }
 ],
 "metadata": {
  "kernelspec": {
   "display_name": "Python 3",
   "language": "python",
   "name": "python3"
  },
  "language_info": {
   "codemirror_mode": {
    "name": "ipython",
    "version": 3
   },
   "file_extension": ".py",
   "mimetype": "text/x-python",
   "name": "python",
   "nbconvert_exporter": "python",
   "pygments_lexer": "ipython3",
   "version": "3.12.2"
  }
 },
 "nbformat": 4,
 "nbformat_minor": 2
}
